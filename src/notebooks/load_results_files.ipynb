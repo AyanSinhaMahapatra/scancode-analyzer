{
 "cells": [
  {
   "cell_type": "markdown",
   "metadata": {},
   "source": [
    "# `load_results_file.py`"
   ]
  },
  {
   "cell_type": "code",
   "execution_count": 1,
   "metadata": {},
   "outputs": [],
   "source": [
    "import sys\n",
    "import numpy as np\n",
    "import pandas as pd\n",
    "sys.path.append('/home/ayan/Desktop/nexB/gsoc20/scancode-results-analyzer/src')"
   ]
  },
  {
   "cell_type": "markdown",
   "metadata": {},
   "source": [
    "Simulating Data going into `ResultsDataFrameFile.create_file_level_dataframe` function, which is called by `ResultsDataFramePackage.create_package_level_dataframe`.\n",
    "Using code snippets from `ResultsDataFramePackage.create_package_level_dataframe`."
   ]
  },
  {
   "cell_type": "code",
   "execution_count": 2,
   "metadata": {},
   "outputs": [],
   "source": [
    "from results_analyze.load_results_package import ResultsDataFramePackage\n",
    "results_package = ResultsDataFramePackage()"
   ]
  },
  {
   "cell_type": "code",
   "execution_count": 3,
   "metadata": {},
   "outputs": [
    {
     "name": "stdout",
     "output_type": "stream",
     "text": [
      "SELECT path, content FROM clearcode_cditem WHERE path like '%/scancode/%'OFFSET 0 ROWS FETCH FIRST 20 ROW ONLY;\n"
     ]
    }
   ],
   "source": [
    "path_json_dataframe = results_package.convert_records_to_json(20)"
   ]
  },
  {
   "cell_type": "markdown",
   "metadata": {},
   "source": [
    "Creates `files_dataframe` and breaks at a good example, `file_list` is passed into `ResultsDataFrameFile.create_file_level_dataframe`."
   ]
  },
  {
   "cell_type": "code",
   "execution_count": 40,
   "metadata": {},
   "outputs": [],
   "source": [
    "files_dataframe, metadata_dataframe = results_package.modify_package_level_dataframe(path_json_dataframe)\n",
    "\n",
    "for package_scan_result in files_dataframe.itertuples():\n",
    "    file_list = package_scan_result[2]\n",
    "    if package_scan_result[0] == 1:\n",
    "        break"
   ]
  },
  {
   "cell_type": "code",
   "execution_count": 41,
   "metadata": {},
   "outputs": [
    {
     "data": {
      "text/plain": [
       "list"
      ]
     },
     "execution_count": 41,
     "metadata": {},
     "output_type": "execute_result"
    }
   ],
   "source": [
    "type(file_list)"
   ]
  },
  {
   "cell_type": "code",
   "execution_count": 42,
   "metadata": {},
   "outputs": [
    {
     "data": {
      "text/plain": [
       "(295,)"
      ]
     },
     "execution_count": 42,
     "metadata": {},
     "output_type": "execute_result"
    }
   ],
   "source": [
    "np.shape(file_list)"
   ]
  },
  {
   "cell_type": "markdown",
   "metadata": {},
   "source": [
    "One of the entries inside the list of dicts."
   ]
  },
  {
   "cell_type": "code",
   "execution_count": 43,
   "metadata": {},
   "outputs": [
    {
     "data": {
      "text/plain": [
       "{'path': 'ccxt-1.28.76/package.json',\n",
       " 'type': 'file',\n",
       " 'name': 'package.json',\n",
       " 'base_name': 'package',\n",
       " 'extension': '.json',\n",
       " 'size': 12024,\n",
       " 'date': '2020-05-26',\n",
       " 'sha1': 'a6d104bee2f3a7610bb10ad379bfb6b0d3466f89',\n",
       " 'md5': '122169b27f6d0a1688a4d21bd3a2d4f6',\n",
       " 'mime_type': 'text/plain',\n",
       " 'file_type': 'ASCII text, with very long lines',\n",
       " 'programming_language': None,\n",
       " 'is_binary': False,\n",
       " 'is_text': True,\n",
       " 'is_archive': False,\n",
       " 'is_media': False,\n",
       " 'is_source': False,\n",
       " 'is_script': False,\n",
       " 'licenses': [{'key': 'mit',\n",
       "   'score': 99,\n",
       "   'name': 'MIT License',\n",
       "   'short_name': 'MIT License',\n",
       "   'category': 'Permissive',\n",
       "   'is_exception': False,\n",
       "   'owner': 'MIT',\n",
       "   'homepage_url': 'http://opensource.org/licenses/mit-license.php',\n",
       "   'text_url': 'http://opensource.org/licenses/mit-license.php',\n",
       "   'reference_url': 'https://enterprise.dejacode.com/urn/urn:dje:license:mit',\n",
       "   'spdx_license_key': 'MIT',\n",
       "   'spdx_url': 'https://spdx.org/licenses/MIT',\n",
       "   'start_line': 72,\n",
       "   'end_line': 72,\n",
       "   'matched_rule': {'identifier': 'mit_34.RULE',\n",
       "    'license_expression': 'mit',\n",
       "    'licenses': ['mit'],\n",
       "    'is_license_text': False,\n",
       "    'is_license_notice': False,\n",
       "    'is_license_reference': False,\n",
       "    'is_license_tag': True,\n",
       "    'matcher': '2-aho',\n",
       "    'rule_length': 2,\n",
       "    'matched_length': 2,\n",
       "    'match_coverage': 100,\n",
       "    'rule_relevance': 99},\n",
       "   'matched_text': 'license\": \"MIT\",'}],\n",
       " 'license_expressions': ['mit'],\n",
       " 'holders': [],\n",
       " 'copyrights': [],\n",
       " 'authors': [],\n",
       " 'packages': [],\n",
       " 'emails': [{'email': 'igor.kroitor@gmail.com',\n",
       "   'start_line': 69,\n",
       "   'end_line': 69}],\n",
       " 'urls': [{'url': 'https://github.com/ccxt/ccxt.git',\n",
       "   'start_line': 12,\n",
       "   'end_line': 12},\n",
       "  {'url': 'https://github.com/kroitor', 'start_line': 70, 'end_line': 70},\n",
       "  {'url': 'https://github.com/ccxt/ccxt/issues',\n",
       "   'start_line': 74,\n",
       "   'end_line': 74},\n",
       "  {'url': 'https://ccxt.trade/', 'start_line': 76, 'end_line': 76},\n",
       "  {'url': 'https://opencollective.com/ccxt',\n",
       "   'start_line': 522,\n",
       "   'end_line': 522},\n",
       "  {'url': 'https://opencollective.com/ccxt/logo.txt',\n",
       "   'start_line': 523,\n",
       "   'end_line': 523}],\n",
       " 'is_legal': False,\n",
       " 'is_manifest': True,\n",
       " 'is_readme': False,\n",
       " 'is_top_level': True,\n",
       " 'is_key_file': True,\n",
       " 'is_generated': False,\n",
       " 'is_license_text': False,\n",
       " 'files_count': 0,\n",
       " 'dirs_count': 0,\n",
       " 'size_count': 0,\n",
       " 'scan_errors': []}"
      ]
     },
     "execution_count": 43,
     "metadata": {},
     "output_type": "execute_result"
    }
   ],
   "source": [
    "file_list[3]"
   ]
  },
  {
   "cell_type": "markdown",
   "metadata": {},
   "source": [
    "## Loads List of Dicts into DataFrame"
   ]
  },
  {
   "cell_type": "code",
   "execution_count": 44,
   "metadata": {},
   "outputs": [],
   "source": [
    "from results_analyze.load_results_file import ResultsDataFrameFile\n",
    "results_file = ResultsDataFrameFile()\n",
    "file_level_dataframe = pd.DataFrame(file_list)"
   ]
  },
  {
   "cell_type": "markdown",
   "metadata": {},
   "source": [
    "Viewing DataFrame Columns and their types by calling `DataFrame.dtypes`"
   ]
  },
  {
   "cell_type": "code",
   "execution_count": 45,
   "metadata": {},
   "outputs": [
    {
     "data": {
      "text/plain": [
       "path                    object\n",
       "type                    object\n",
       "name                    object\n",
       "base_name               object\n",
       "extension               object\n",
       "size                     int64\n",
       "date                    object\n",
       "sha1                    object\n",
       "md5                     object\n",
       "mime_type               object\n",
       "file_type               object\n",
       "programming_language    object\n",
       "is_binary                 bool\n",
       "is_text                   bool\n",
       "is_archive                bool\n",
       "is_media                  bool\n",
       "is_source                 bool\n",
       "is_script                 bool\n",
       "licenses                object\n",
       "license_expressions     object\n",
       "holders                 object\n",
       "copyrights              object\n",
       "authors                 object\n",
       "packages                object\n",
       "emails                  object\n",
       "urls                    object\n",
       "is_legal                  bool\n",
       "is_manifest               bool\n",
       "is_readme                 bool\n",
       "is_top_level              bool\n",
       "is_key_file               bool\n",
       "is_generated              bool\n",
       "is_license_text           bool\n",
       "files_count              int64\n",
       "dirs_count               int64\n",
       "size_count               int64\n",
       "scan_errors             object\n",
       "dtype: object"
      ]
     },
     "execution_count": 45,
     "metadata": {},
     "output_type": "execute_result"
    }
   ],
   "source": [
    "file_level_dataframe.dtypes"
   ]
  },
  {
   "cell_type": "code",
   "execution_count": 63,
   "metadata": {},
   "outputs": [
    {
     "data": {
      "text/plain": [
       "(11, 20)"
      ]
     },
     "execution_count": 63,
     "metadata": {},
     "output_type": "execute_result"
    }
   ],
   "source": [
    "file_level_dataframe.shape"
   ]
  },
  {
   "cell_type": "code",
   "execution_count": 64,
   "metadata": {},
   "outputs": [
    {
     "data": {
      "text/plain": [
       "\u001b[0;31mSignature:\u001b[0m \u001b[0mresults_file\u001b[0m\u001b[0;34m.\u001b[0m\u001b[0mmodify_file_level_dataframe\u001b[0m\u001b[0;34m(\u001b[0m\u001b[0mdataframe_files\u001b[0m\u001b[0;34m)\u001b[0m\u001b[0;34m\u001b[0m\u001b[0;34m\u001b[0m\u001b[0m\n",
       "\u001b[0;31mDocstring:\u001b[0m\n",
       "Takes a File Level DataFrame, drops unnecessary columns, drops all directory rows, drops same files,\n",
       "drop files with no license detections, and makes sha1 column as the file level Index [Primary Key].\n",
       "\n",
       ":param dataframe_files: pd.DataFrame\n",
       "    File Level DataFrames\n",
       "\u001b[0;31mFile:\u001b[0m      ~/Desktop/nexB/gsoc20/scancode-results-analyzer/src/results_analyze/load_results_file.py\n",
       "\u001b[0;31mType:\u001b[0m      method\n"
      ]
     },
     "metadata": {},
     "output_type": "display_data"
    }
   ],
   "source": [
    "results_file.modify_file_level_dataframe?"
   ]
  },
  {
   "cell_type": "code",
   "execution_count": 47,
   "metadata": {},
   "outputs": [],
   "source": [
    "results_file.modify_file_level_dataframe(file_level_dataframe)"
   ]
  },
  {
   "cell_type": "code",
   "execution_count": 48,
   "metadata": {},
   "outputs": [
    {
     "data": {
      "text/plain": [
       "(11, 20)"
      ]
     },
     "execution_count": 48,
     "metadata": {},
     "output_type": "execute_result"
    }
   ],
   "source": [
    "file_level_dataframe.shape"
   ]
  },
  {
   "cell_type": "code",
   "execution_count": 49,
   "metadata": {},
   "outputs": [
    {
     "data": {
      "text/plain": [
       "path                     object\n",
       "size                      int64\n",
       "mime_type                object\n",
       "file_type                object\n",
       "programming_language     object\n",
       "is_binary                  bool\n",
       "is_text                    bool\n",
       "is_archive                 bool\n",
       "is_media                   bool\n",
       "is_source                  bool\n",
       "is_script                  bool\n",
       "licenses                 object\n",
       "is_legal                   bool\n",
       "is_manifest                bool\n",
       "is_readme                  bool\n",
       "is_top_level               bool\n",
       "is_key_file                bool\n",
       "is_generated               bool\n",
       "is_license_text            bool\n",
       "license_detections_no     int64\n",
       "dtype: object"
      ]
     },
     "execution_count": 49,
     "metadata": {},
     "output_type": "execute_result"
    }
   ],
   "source": [
    "file_level_dataframe.dtypes"
   ]
  },
  {
   "cell_type": "markdown",
   "metadata": {},
   "source": [
    "Some entries inside `file_level_dataframe`, here `licenses` column contains list of dicts, where list length is number of license detections per file."
   ]
  },
  {
   "cell_type": "code",
   "execution_count": 50,
   "metadata": {},
   "outputs": [
    {
     "data": {
      "text/html": [
       "<div>\n",
       "<style scoped>\n",
       "    .dataframe tbody tr th:only-of-type {\n",
       "        vertical-align: middle;\n",
       "    }\n",
       "\n",
       "    .dataframe tbody tr th {\n",
       "        vertical-align: top;\n",
       "    }\n",
       "\n",
       "    .dataframe thead th {\n",
       "        text-align: right;\n",
       "    }\n",
       "</style>\n",
       "<table border=\"1\" class=\"dataframe\">\n",
       "  <thead>\n",
       "    <tr style=\"text-align: right;\">\n",
       "      <th></th>\n",
       "      <th>path</th>\n",
       "      <th>size</th>\n",
       "      <th>mime_type</th>\n",
       "      <th>file_type</th>\n",
       "      <th>programming_language</th>\n",
       "      <th>is_binary</th>\n",
       "      <th>is_text</th>\n",
       "      <th>is_archive</th>\n",
       "      <th>is_media</th>\n",
       "      <th>is_source</th>\n",
       "      <th>is_script</th>\n",
       "      <th>licenses</th>\n",
       "      <th>is_legal</th>\n",
       "      <th>is_manifest</th>\n",
       "      <th>is_readme</th>\n",
       "      <th>is_top_level</th>\n",
       "      <th>is_key_file</th>\n",
       "      <th>is_generated</th>\n",
       "      <th>is_license_text</th>\n",
       "      <th>license_detections_no</th>\n",
       "    </tr>\n",
       "    <tr>\n",
       "      <th>sha1</th>\n",
       "      <th></th>\n",
       "      <th></th>\n",
       "      <th></th>\n",
       "      <th></th>\n",
       "      <th></th>\n",
       "      <th></th>\n",
       "      <th></th>\n",
       "      <th></th>\n",
       "      <th></th>\n",
       "      <th></th>\n",
       "      <th></th>\n",
       "      <th></th>\n",
       "      <th></th>\n",
       "      <th></th>\n",
       "      <th></th>\n",
       "      <th></th>\n",
       "      <th></th>\n",
       "      <th></th>\n",
       "      <th></th>\n",
       "      <th></th>\n",
       "    </tr>\n",
       "  </thead>\n",
       "  <tbody>\n",
       "    <tr>\n",
       "      <th>3be892ba5a4cdc550ac746e257e8e944e79561de</th>\n",
       "      <td>ccxt-1.28.76/LICENSE.txt</td>\n",
       "      <td>1068</td>\n",
       "      <td>text/plain</td>\n",
       "      <td>UTF-8 Unicode text</td>\n",
       "      <td>None</td>\n",
       "      <td>False</td>\n",
       "      <td>True</td>\n",
       "      <td>False</td>\n",
       "      <td>False</td>\n",
       "      <td>False</td>\n",
       "      <td>False</td>\n",
       "      <td>[{'key': 'mit', 'score': 99.4, 'name': 'MIT Li...</td>\n",
       "      <td>True</td>\n",
       "      <td>False</td>\n",
       "      <td>False</td>\n",
       "      <td>True</td>\n",
       "      <td>True</td>\n",
       "      <td>False</td>\n",
       "      <td>True</td>\n",
       "      <td>1</td>\n",
       "    </tr>\n",
       "    <tr>\n",
       "      <th>a6d104bee2f3a7610bb10ad379bfb6b0d3466f89</th>\n",
       "      <td>ccxt-1.28.76/package.json</td>\n",
       "      <td>12024</td>\n",
       "      <td>text/plain</td>\n",
       "      <td>ASCII text, with very long lines</td>\n",
       "      <td>None</td>\n",
       "      <td>False</td>\n",
       "      <td>True</td>\n",
       "      <td>False</td>\n",
       "      <td>False</td>\n",
       "      <td>False</td>\n",
       "      <td>False</td>\n",
       "      <td>[{'key': 'mit', 'score': 99, 'name': 'MIT Lice...</td>\n",
       "      <td>False</td>\n",
       "      <td>True</td>\n",
       "      <td>False</td>\n",
       "      <td>True</td>\n",
       "      <td>True</td>\n",
       "      <td>False</td>\n",
       "      <td>False</td>\n",
       "      <td>1</td>\n",
       "    </tr>\n",
       "    <tr>\n",
       "      <th>15ecee2af9d79cc7c86d42b31b8778faf61e7e35</th>\n",
       "      <td>ccxt-1.28.76/README.rst</td>\n",
       "      <td>104132</td>\n",
       "      <td>text/plain</td>\n",
       "      <td>UTF-8 Unicode text, with very long lines</td>\n",
       "      <td>None</td>\n",
       "      <td>False</td>\n",
       "      <td>True</td>\n",
       "      <td>False</td>\n",
       "      <td>False</td>\n",
       "      <td>False</td>\n",
       "      <td>False</td>\n",
       "      <td>[{'key': 'mit', 'score': 22, 'name': 'MIT Lice...</td>\n",
       "      <td>False</td>\n",
       "      <td>False</td>\n",
       "      <td>True</td>\n",
       "      <td>True</td>\n",
       "      <td>True</td>\n",
       "      <td>False</td>\n",
       "      <td>False</td>\n",
       "      <td>1</td>\n",
       "    </tr>\n",
       "    <tr>\n",
       "      <th>7e75216e98490df3995164be00d5d6d4ae8d63cf</th>\n",
       "      <td>ccxt-1.28.76/setup.py</td>\n",
       "      <td>2619</td>\n",
       "      <td>text/x-python</td>\n",
       "      <td>Python script, ASCII text executable</td>\n",
       "      <td>Python</td>\n",
       "      <td>False</td>\n",
       "      <td>True</td>\n",
       "      <td>False</td>\n",
       "      <td>False</td>\n",
       "      <td>True</td>\n",
       "      <td>True</td>\n",
       "      <td>[{'key': 'mit', 'score': 27, 'name': 'MIT Lice...</td>\n",
       "      <td>False</td>\n",
       "      <td>True</td>\n",
       "      <td>False</td>\n",
       "      <td>True</td>\n",
       "      <td>True</td>\n",
       "      <td>False</td>\n",
       "      <td>False</td>\n",
       "      <td>1</td>\n",
       "    </tr>\n",
       "    <tr>\n",
       "      <th>da97ffed59276dce11663a7ddb468112811debeb</th>\n",
       "      <td>ccxt-1.28.76/ccxt/__init__.py</td>\n",
       "      <td>15038</td>\n",
       "      <td>text/x-python</td>\n",
       "      <td>Python script, ASCII text executable</td>\n",
       "      <td>Python</td>\n",
       "      <td>False</td>\n",
       "      <td>True</td>\n",
       "      <td>False</td>\n",
       "      <td>False</td>\n",
       "      <td>True</td>\n",
       "      <td>True</td>\n",
       "      <td>[{'key': 'mit', 'score': 99.4, 'name': 'MIT Li...</td>\n",
       "      <td>False</td>\n",
       "      <td>False</td>\n",
       "      <td>False</td>\n",
       "      <td>False</td>\n",
       "      <td>False</td>\n",
       "      <td>False</td>\n",
       "      <td>False</td>\n",
       "      <td>1</td>\n",
       "    </tr>\n",
       "  </tbody>\n",
       "</table>\n",
       "</div>"
      ],
      "text/plain": [
       "                                                                   path  \\\n",
       "sha1                                                                      \n",
       "3be892ba5a4cdc550ac746e257e8e944e79561de       ccxt-1.28.76/LICENSE.txt   \n",
       "a6d104bee2f3a7610bb10ad379bfb6b0d3466f89      ccxt-1.28.76/package.json   \n",
       "15ecee2af9d79cc7c86d42b31b8778faf61e7e35        ccxt-1.28.76/README.rst   \n",
       "7e75216e98490df3995164be00d5d6d4ae8d63cf          ccxt-1.28.76/setup.py   \n",
       "da97ffed59276dce11663a7ddb468112811debeb  ccxt-1.28.76/ccxt/__init__.py   \n",
       "\n",
       "                                            size      mime_type  \\\n",
       "sha1                                                              \n",
       "3be892ba5a4cdc550ac746e257e8e944e79561de    1068     text/plain   \n",
       "a6d104bee2f3a7610bb10ad379bfb6b0d3466f89   12024     text/plain   \n",
       "15ecee2af9d79cc7c86d42b31b8778faf61e7e35  104132     text/plain   \n",
       "7e75216e98490df3995164be00d5d6d4ae8d63cf    2619  text/x-python   \n",
       "da97ffed59276dce11663a7ddb468112811debeb   15038  text/x-python   \n",
       "\n",
       "                                                                         file_type  \\\n",
       "sha1                                                                                 \n",
       "3be892ba5a4cdc550ac746e257e8e944e79561de                        UTF-8 Unicode text   \n",
       "a6d104bee2f3a7610bb10ad379bfb6b0d3466f89          ASCII text, with very long lines   \n",
       "15ecee2af9d79cc7c86d42b31b8778faf61e7e35  UTF-8 Unicode text, with very long lines   \n",
       "7e75216e98490df3995164be00d5d6d4ae8d63cf      Python script, ASCII text executable   \n",
       "da97ffed59276dce11663a7ddb468112811debeb      Python script, ASCII text executable   \n",
       "\n",
       "                                         programming_language  is_binary  \\\n",
       "sha1                                                                       \n",
       "3be892ba5a4cdc550ac746e257e8e944e79561de                 None      False   \n",
       "a6d104bee2f3a7610bb10ad379bfb6b0d3466f89                 None      False   \n",
       "15ecee2af9d79cc7c86d42b31b8778faf61e7e35                 None      False   \n",
       "7e75216e98490df3995164be00d5d6d4ae8d63cf               Python      False   \n",
       "da97ffed59276dce11663a7ddb468112811debeb               Python      False   \n",
       "\n",
       "                                          is_text  is_archive  is_media  \\\n",
       "sha1                                                                      \n",
       "3be892ba5a4cdc550ac746e257e8e944e79561de     True       False     False   \n",
       "a6d104bee2f3a7610bb10ad379bfb6b0d3466f89     True       False     False   \n",
       "15ecee2af9d79cc7c86d42b31b8778faf61e7e35     True       False     False   \n",
       "7e75216e98490df3995164be00d5d6d4ae8d63cf     True       False     False   \n",
       "da97ffed59276dce11663a7ddb468112811debeb     True       False     False   \n",
       "\n",
       "                                          is_source  is_script  \\\n",
       "sha1                                                             \n",
       "3be892ba5a4cdc550ac746e257e8e944e79561de      False      False   \n",
       "a6d104bee2f3a7610bb10ad379bfb6b0d3466f89      False      False   \n",
       "15ecee2af9d79cc7c86d42b31b8778faf61e7e35      False      False   \n",
       "7e75216e98490df3995164be00d5d6d4ae8d63cf       True       True   \n",
       "da97ffed59276dce11663a7ddb468112811debeb       True       True   \n",
       "\n",
       "                                                                                   licenses  \\\n",
       "sha1                                                                                          \n",
       "3be892ba5a4cdc550ac746e257e8e944e79561de  [{'key': 'mit', 'score': 99.4, 'name': 'MIT Li...   \n",
       "a6d104bee2f3a7610bb10ad379bfb6b0d3466f89  [{'key': 'mit', 'score': 99, 'name': 'MIT Lice...   \n",
       "15ecee2af9d79cc7c86d42b31b8778faf61e7e35  [{'key': 'mit', 'score': 22, 'name': 'MIT Lice...   \n",
       "7e75216e98490df3995164be00d5d6d4ae8d63cf  [{'key': 'mit', 'score': 27, 'name': 'MIT Lice...   \n",
       "da97ffed59276dce11663a7ddb468112811debeb  [{'key': 'mit', 'score': 99.4, 'name': 'MIT Li...   \n",
       "\n",
       "                                          is_legal  is_manifest  is_readme  \\\n",
       "sha1                                                                         \n",
       "3be892ba5a4cdc550ac746e257e8e944e79561de      True        False      False   \n",
       "a6d104bee2f3a7610bb10ad379bfb6b0d3466f89     False         True      False   \n",
       "15ecee2af9d79cc7c86d42b31b8778faf61e7e35     False        False       True   \n",
       "7e75216e98490df3995164be00d5d6d4ae8d63cf     False         True      False   \n",
       "da97ffed59276dce11663a7ddb468112811debeb     False        False      False   \n",
       "\n",
       "                                          is_top_level  is_key_file  \\\n",
       "sha1                                                                  \n",
       "3be892ba5a4cdc550ac746e257e8e944e79561de          True         True   \n",
       "a6d104bee2f3a7610bb10ad379bfb6b0d3466f89          True         True   \n",
       "15ecee2af9d79cc7c86d42b31b8778faf61e7e35          True         True   \n",
       "7e75216e98490df3995164be00d5d6d4ae8d63cf          True         True   \n",
       "da97ffed59276dce11663a7ddb468112811debeb         False        False   \n",
       "\n",
       "                                          is_generated  is_license_text  \\\n",
       "sha1                                                                      \n",
       "3be892ba5a4cdc550ac746e257e8e944e79561de         False             True   \n",
       "a6d104bee2f3a7610bb10ad379bfb6b0d3466f89         False            False   \n",
       "15ecee2af9d79cc7c86d42b31b8778faf61e7e35         False            False   \n",
       "7e75216e98490df3995164be00d5d6d4ae8d63cf         False            False   \n",
       "da97ffed59276dce11663a7ddb468112811debeb         False            False   \n",
       "\n",
       "                                          license_detections_no  \n",
       "sha1                                                             \n",
       "3be892ba5a4cdc550ac746e257e8e944e79561de                      1  \n",
       "a6d104bee2f3a7610bb10ad379bfb6b0d3466f89                      1  \n",
       "15ecee2af9d79cc7c86d42b31b8778faf61e7e35                      1  \n",
       "7e75216e98490df3995164be00d5d6d4ae8d63cf                      1  \n",
       "da97ffed59276dce11663a7ddb468112811debeb                      1  "
      ]
     },
     "execution_count": 50,
     "metadata": {},
     "output_type": "execute_result"
    }
   ],
   "source": [
    "file_level_dataframe.head(5)"
   ]
  },
  {
   "cell_type": "markdown",
   "metadata": {},
   "source": [
    "These lines takes out all these licenses into `DataFrames`. "
   ]
  },
  {
   "cell_type": "code",
   "execution_count": 51,
   "metadata": {},
   "outputs": [],
   "source": [
    "lic_level_dataframe = file_level_dataframe.groupby('sha1').licenses.apply(lambda x: pd.DataFrame(x.values[0])).reset_index()\n",
    "lic_level_dataframe.rename(columns={'level_1': 'lic_det_num'}, inplace=True)"
   ]
  },
  {
   "cell_type": "markdown",
   "metadata": {},
   "source": [
    "These are only license level information in the columns."
   ]
  },
  {
   "cell_type": "code",
   "execution_count": 52,
   "metadata": {},
   "outputs": [
    {
     "data": {
      "text/plain": [
       "sha1                 object\n",
       "lic_det_num           int64\n",
       "key                  object\n",
       "score               float64\n",
       "name                 object\n",
       "short_name           object\n",
       "category             object\n",
       "is_exception           bool\n",
       "owner                object\n",
       "homepage_url         object\n",
       "text_url             object\n",
       "reference_url        object\n",
       "spdx_license_key     object\n",
       "spdx_url             object\n",
       "start_line            int64\n",
       "end_line              int64\n",
       "matched_rule         object\n",
       "matched_text         object\n",
       "dtype: object"
      ]
     },
     "execution_count": 52,
     "metadata": {},
     "output_type": "execute_result"
    }
   ],
   "source": [
    "lic_level_dataframe.dtypes"
   ]
  },
  {
   "cell_type": "code",
   "execution_count": 65,
   "metadata": {},
   "outputs": [
    {
     "data": {
      "text/plain": [
       "\u001b[0;31mSignature:\u001b[0m \u001b[0mresults_file\u001b[0m\u001b[0;34m.\u001b[0m\u001b[0mmodify_lic_level_dataframe\u001b[0m\u001b[0;34m(\u001b[0m\u001b[0mdataframe_lic\u001b[0m\u001b[0;34m)\u001b[0m\u001b[0;34m\u001b[0m\u001b[0;34m\u001b[0m\u001b[0m\n",
       "\u001b[0;31mDocstring:\u001b[0m\n",
       "Modifies License level DataFrame, from 'matched_rule' dicts, bring information to columns.\n",
       "Maps Rule Names and other strings to integer values to compress.\n",
       "\n",
       ":param dataframe_lic: pd.DataFrame\n",
       ":return dataframe_lic: pd.DataFrame\n",
       "\u001b[0;31mFile:\u001b[0m      ~/Desktop/nexB/gsoc20/scancode-results-analyzer/src/results_analyze/load_results_file.py\n",
       "\u001b[0;31mType:\u001b[0m      method\n"
      ]
     },
     "metadata": {},
     "output_type": "display_data"
    }
   ],
   "source": [
    "results_file.modify_lic_level_dataframe?"
   ]
  },
  {
   "cell_type": "code",
   "execution_count": 53,
   "metadata": {},
   "outputs": [],
   "source": [
    "lic_level_dataframe = results_file.modify_lic_level_dataframe(lic_level_dataframe)"
   ]
  },
  {
   "cell_type": "code",
   "execution_count": 66,
   "metadata": {},
   "outputs": [
    {
     "data": {
      "text/plain": [
       "lic_det_num               int64\n",
       "key                      object\n",
       "score                   float64\n",
       "category                 object\n",
       "is_exception               bool\n",
       "start_line                int64\n",
       "end_line                  int64\n",
       "matched_text             object\n",
       "identifier               object\n",
       "is_license_text            bool\n",
       "is_license_notice          bool\n",
       "is_license_reference       bool\n",
       "is_license_tag             bool\n",
       "matcher                  object\n",
       "rule_length               int64\n",
       "matched_length            int64\n",
       "match_coverage          float64\n",
       "rule_relevance            int64\n",
       "dtype: object"
      ]
     },
     "execution_count": 66,
     "metadata": {},
     "output_type": "execute_result"
    }
   ],
   "source": [
    "lic_level_dataframe.dtypes"
   ]
  },
  {
   "cell_type": "code",
   "execution_count": 55,
   "metadata": {},
   "outputs": [],
   "source": [
    "lic_level_dataframe.set_index('sha1', inplace=True)"
   ]
  },
  {
   "cell_type": "markdown",
   "metadata": {},
   "source": [
    "Joins License level and File level Dataframes using Join operations, by the primary key `sha1`."
   ]
  },
  {
   "cell_type": "code",
   "execution_count": 56,
   "metadata": {},
   "outputs": [],
   "source": [
    "merged_df = file_level_dataframe.join(lic_level_dataframe, lsuffix='_file', rsuffix='_lic')\n",
    "merged_df.reset_index(inplace=True)\n",
    "merged_df.set_index(['sha1', 'lic_det_num'], inplace=True)"
   ]
  },
  {
   "cell_type": "markdown",
   "metadata": {},
   "source": [
    "## Notice how under one file, there can be many license rows, and there are 2 Primary key columns on the left, where there is a one-to-many relationship."
   ]
  },
  {
   "cell_type": "code",
   "execution_count": 58,
   "metadata": {},
   "outputs": [
    {
     "data": {
      "text/html": [
       "<div>\n",
       "<style scoped>\n",
       "    .dataframe tbody tr th:only-of-type {\n",
       "        vertical-align: middle;\n",
       "    }\n",
       "\n",
       "    .dataframe tbody tr th {\n",
       "        vertical-align: top;\n",
       "    }\n",
       "\n",
       "    .dataframe thead th {\n",
       "        text-align: right;\n",
       "    }\n",
       "</style>\n",
       "<table border=\"1\" class=\"dataframe\">\n",
       "  <thead>\n",
       "    <tr style=\"text-align: right;\">\n",
       "      <th></th>\n",
       "      <th></th>\n",
       "      <th>path</th>\n",
       "      <th>size</th>\n",
       "      <th>mime_type</th>\n",
       "      <th>file_type</th>\n",
       "      <th>programming_language</th>\n",
       "      <th>is_binary</th>\n",
       "      <th>is_text</th>\n",
       "      <th>is_archive</th>\n",
       "      <th>is_media</th>\n",
       "      <th>is_source</th>\n",
       "      <th>...</th>\n",
       "      <th>identifier</th>\n",
       "      <th>is_license_text_lic</th>\n",
       "      <th>is_license_notice</th>\n",
       "      <th>is_license_reference</th>\n",
       "      <th>is_license_tag</th>\n",
       "      <th>matcher</th>\n",
       "      <th>rule_length</th>\n",
       "      <th>matched_length</th>\n",
       "      <th>match_coverage</th>\n",
       "      <th>rule_relevance</th>\n",
       "    </tr>\n",
       "    <tr>\n",
       "      <th>sha1</th>\n",
       "      <th>lic_det_num</th>\n",
       "      <th></th>\n",
       "      <th></th>\n",
       "      <th></th>\n",
       "      <th></th>\n",
       "      <th></th>\n",
       "      <th></th>\n",
       "      <th></th>\n",
       "      <th></th>\n",
       "      <th></th>\n",
       "      <th></th>\n",
       "      <th></th>\n",
       "      <th></th>\n",
       "      <th></th>\n",
       "      <th></th>\n",
       "      <th></th>\n",
       "      <th></th>\n",
       "      <th></th>\n",
       "      <th></th>\n",
       "      <th></th>\n",
       "      <th></th>\n",
       "      <th></th>\n",
       "    </tr>\n",
       "  </thead>\n",
       "  <tbody>\n",
       "    <tr>\n",
       "      <th>15ecee2af9d79cc7c86d42b31b8778faf61e7e35</th>\n",
       "      <th>0</th>\n",
       "      <td>ccxt-1.28.76/README.rst</td>\n",
       "      <td>104132</td>\n",
       "      <td>text/plain</td>\n",
       "      <td>UTF-8 Unicode text, with very long lines</td>\n",
       "      <td>None</td>\n",
       "      <td>False</td>\n",
       "      <td>True</td>\n",
       "      <td>False</td>\n",
       "      <td>False</td>\n",
       "      <td>False</td>\n",
       "      <td>...</td>\n",
       "      <td>mit_77.RULE</td>\n",
       "      <td>False</td>\n",
       "      <td>False</td>\n",
       "      <td>True</td>\n",
       "      <td>False</td>\n",
       "      <td>2-aho</td>\n",
       "      <td>4</td>\n",
       "      <td>4</td>\n",
       "      <td>100.0</td>\n",
       "      <td>22</td>\n",
       "    </tr>\n",
       "    <tr>\n",
       "      <th rowspan=\"3\" valign=\"top\">1c3a8a412cca20678559fce34b46686c39a835c0</th>\n",
       "      <th>0</th>\n",
       "      <td>ccxt-1.28.76/ccxt.egg-info/PKG-INFO</td>\n",
       "      <td>115136</td>\n",
       "      <td>text/plain</td>\n",
       "      <td>UTF-8 Unicode text, with very long lines</td>\n",
       "      <td>None</td>\n",
       "      <td>False</td>\n",
       "      <td>True</td>\n",
       "      <td>False</td>\n",
       "      <td>False</td>\n",
       "      <td>False</td>\n",
       "      <td>...</td>\n",
       "      <td>mit_34.RULE</td>\n",
       "      <td>False</td>\n",
       "      <td>False</td>\n",
       "      <td>False</td>\n",
       "      <td>True</td>\n",
       "      <td>2-aho</td>\n",
       "      <td>2</td>\n",
       "      <td>2</td>\n",
       "      <td>100.0</td>\n",
       "      <td>99</td>\n",
       "    </tr>\n",
       "    <tr>\n",
       "      <th>1</th>\n",
       "      <td>ccxt-1.28.76/ccxt.egg-info/PKG-INFO</td>\n",
       "      <td>115136</td>\n",
       "      <td>text/plain</td>\n",
       "      <td>UTF-8 Unicode text, with very long lines</td>\n",
       "      <td>None</td>\n",
       "      <td>False</td>\n",
       "      <td>True</td>\n",
       "      <td>False</td>\n",
       "      <td>False</td>\n",
       "      <td>False</td>\n",
       "      <td>...</td>\n",
       "      <td>mit_77.RULE</td>\n",
       "      <td>False</td>\n",
       "      <td>False</td>\n",
       "      <td>True</td>\n",
       "      <td>False</td>\n",
       "      <td>2-aho</td>\n",
       "      <td>4</td>\n",
       "      <td>4</td>\n",
       "      <td>100.0</td>\n",
       "      <td>22</td>\n",
       "    </tr>\n",
       "    <tr>\n",
       "      <th>2</th>\n",
       "      <td>ccxt-1.28.76/ccxt.egg-info/PKG-INFO</td>\n",
       "      <td>115136</td>\n",
       "      <td>text/plain</td>\n",
       "      <td>UTF-8 Unicode text, with very long lines</td>\n",
       "      <td>None</td>\n",
       "      <td>False</td>\n",
       "      <td>True</td>\n",
       "      <td>False</td>\n",
       "      <td>False</td>\n",
       "      <td>False</td>\n",
       "      <td>...</td>\n",
       "      <td>pypi_mit_license.RULE</td>\n",
       "      <td>False</td>\n",
       "      <td>False</td>\n",
       "      <td>False</td>\n",
       "      <td>True</td>\n",
       "      <td>2-aho</td>\n",
       "      <td>5</td>\n",
       "      <td>5</td>\n",
       "      <td>100.0</td>\n",
       "      <td>27</td>\n",
       "    </tr>\n",
       "    <tr>\n",
       "      <th>3be892ba5a4cdc550ac746e257e8e944e79561de</th>\n",
       "      <th>0</th>\n",
       "      <td>ccxt-1.28.76/LICENSE.txt</td>\n",
       "      <td>1068</td>\n",
       "      <td>text/plain</td>\n",
       "      <td>UTF-8 Unicode text</td>\n",
       "      <td>None</td>\n",
       "      <td>False</td>\n",
       "      <td>True</td>\n",
       "      <td>False</td>\n",
       "      <td>False</td>\n",
       "      <td>False</td>\n",
       "      <td>...</td>\n",
       "      <td>mit_160.RULE</td>\n",
       "      <td>True</td>\n",
       "      <td>False</td>\n",
       "      <td>False</td>\n",
       "      <td>False</td>\n",
       "      <td>3-seq</td>\n",
       "      <td>167</td>\n",
       "      <td>166</td>\n",
       "      <td>99.4</td>\n",
       "      <td>100</td>\n",
       "    </tr>\n",
       "  </tbody>\n",
       "</table>\n",
       "<p>5 rows × 37 columns</p>\n",
       "</div>"
      ],
      "text/plain": [
       "                                                                                     path  \\\n",
       "sha1                                     lic_det_num                                        \n",
       "15ecee2af9d79cc7c86d42b31b8778faf61e7e35 0                        ccxt-1.28.76/README.rst   \n",
       "1c3a8a412cca20678559fce34b46686c39a835c0 0            ccxt-1.28.76/ccxt.egg-info/PKG-INFO   \n",
       "                                         1            ccxt-1.28.76/ccxt.egg-info/PKG-INFO   \n",
       "                                         2            ccxt-1.28.76/ccxt.egg-info/PKG-INFO   \n",
       "3be892ba5a4cdc550ac746e257e8e944e79561de 0                       ccxt-1.28.76/LICENSE.txt   \n",
       "\n",
       "                                                        size   mime_type  \\\n",
       "sha1                                     lic_det_num                       \n",
       "15ecee2af9d79cc7c86d42b31b8778faf61e7e35 0            104132  text/plain   \n",
       "1c3a8a412cca20678559fce34b46686c39a835c0 0            115136  text/plain   \n",
       "                                         1            115136  text/plain   \n",
       "                                         2            115136  text/plain   \n",
       "3be892ba5a4cdc550ac746e257e8e944e79561de 0              1068  text/plain   \n",
       "\n",
       "                                                                                     file_type  \\\n",
       "sha1                                     lic_det_num                                             \n",
       "15ecee2af9d79cc7c86d42b31b8778faf61e7e35 0            UTF-8 Unicode text, with very long lines   \n",
       "1c3a8a412cca20678559fce34b46686c39a835c0 0            UTF-8 Unicode text, with very long lines   \n",
       "                                         1            UTF-8 Unicode text, with very long lines   \n",
       "                                         2            UTF-8 Unicode text, with very long lines   \n",
       "3be892ba5a4cdc550ac746e257e8e944e79561de 0                                  UTF-8 Unicode text   \n",
       "\n",
       "                                                     programming_language  \\\n",
       "sha1                                     lic_det_num                        \n",
       "15ecee2af9d79cc7c86d42b31b8778faf61e7e35 0                           None   \n",
       "1c3a8a412cca20678559fce34b46686c39a835c0 0                           None   \n",
       "                                         1                           None   \n",
       "                                         2                           None   \n",
       "3be892ba5a4cdc550ac746e257e8e944e79561de 0                           None   \n",
       "\n",
       "                                                      is_binary  is_text  \\\n",
       "sha1                                     lic_det_num                       \n",
       "15ecee2af9d79cc7c86d42b31b8778faf61e7e35 0                False     True   \n",
       "1c3a8a412cca20678559fce34b46686c39a835c0 0                False     True   \n",
       "                                         1                False     True   \n",
       "                                         2                False     True   \n",
       "3be892ba5a4cdc550ac746e257e8e944e79561de 0                False     True   \n",
       "\n",
       "                                                      is_archive  is_media  \\\n",
       "sha1                                     lic_det_num                         \n",
       "15ecee2af9d79cc7c86d42b31b8778faf61e7e35 0                 False     False   \n",
       "1c3a8a412cca20678559fce34b46686c39a835c0 0                 False     False   \n",
       "                                         1                 False     False   \n",
       "                                         2                 False     False   \n",
       "3be892ba5a4cdc550ac746e257e8e944e79561de 0                 False     False   \n",
       "\n",
       "                                                      is_source  ...  \\\n",
       "sha1                                     lic_det_num             ...   \n",
       "15ecee2af9d79cc7c86d42b31b8778faf61e7e35 0                False  ...   \n",
       "1c3a8a412cca20678559fce34b46686c39a835c0 0                False  ...   \n",
       "                                         1                False  ...   \n",
       "                                         2                False  ...   \n",
       "3be892ba5a4cdc550ac746e257e8e944e79561de 0                False  ...   \n",
       "\n",
       "                                                                 identifier  \\\n",
       "sha1                                     lic_det_num                          \n",
       "15ecee2af9d79cc7c86d42b31b8778faf61e7e35 0                      mit_77.RULE   \n",
       "1c3a8a412cca20678559fce34b46686c39a835c0 0                      mit_34.RULE   \n",
       "                                         1                      mit_77.RULE   \n",
       "                                         2            pypi_mit_license.RULE   \n",
       "3be892ba5a4cdc550ac746e257e8e944e79561de 0                     mit_160.RULE   \n",
       "\n",
       "                                                     is_license_text_lic  \\\n",
       "sha1                                     lic_det_num                       \n",
       "15ecee2af9d79cc7c86d42b31b8778faf61e7e35 0                         False   \n",
       "1c3a8a412cca20678559fce34b46686c39a835c0 0                         False   \n",
       "                                         1                         False   \n",
       "                                         2                         False   \n",
       "3be892ba5a4cdc550ac746e257e8e944e79561de 0                          True   \n",
       "\n",
       "                                                      is_license_notice  \\\n",
       "sha1                                     lic_det_num                      \n",
       "15ecee2af9d79cc7c86d42b31b8778faf61e7e35 0                        False   \n",
       "1c3a8a412cca20678559fce34b46686c39a835c0 0                        False   \n",
       "                                         1                        False   \n",
       "                                         2                        False   \n",
       "3be892ba5a4cdc550ac746e257e8e944e79561de 0                        False   \n",
       "\n",
       "                                                      is_license_reference  \\\n",
       "sha1                                     lic_det_num                         \n",
       "15ecee2af9d79cc7c86d42b31b8778faf61e7e35 0                            True   \n",
       "1c3a8a412cca20678559fce34b46686c39a835c0 0                           False   \n",
       "                                         1                            True   \n",
       "                                         2                           False   \n",
       "3be892ba5a4cdc550ac746e257e8e944e79561de 0                           False   \n",
       "\n",
       "                                                      is_license_tag  matcher  \\\n",
       "sha1                                     lic_det_num                            \n",
       "15ecee2af9d79cc7c86d42b31b8778faf61e7e35 0                     False    2-aho   \n",
       "1c3a8a412cca20678559fce34b46686c39a835c0 0                      True    2-aho   \n",
       "                                         1                     False    2-aho   \n",
       "                                         2                      True    2-aho   \n",
       "3be892ba5a4cdc550ac746e257e8e944e79561de 0                     False    3-seq   \n",
       "\n",
       "                                                      rule_length  \\\n",
       "sha1                                     lic_det_num                \n",
       "15ecee2af9d79cc7c86d42b31b8778faf61e7e35 0                      4   \n",
       "1c3a8a412cca20678559fce34b46686c39a835c0 0                      2   \n",
       "                                         1                      4   \n",
       "                                         2                      5   \n",
       "3be892ba5a4cdc550ac746e257e8e944e79561de 0                    167   \n",
       "\n",
       "                                                      matched_length  \\\n",
       "sha1                                     lic_det_num                   \n",
       "15ecee2af9d79cc7c86d42b31b8778faf61e7e35 0                         4   \n",
       "1c3a8a412cca20678559fce34b46686c39a835c0 0                         2   \n",
       "                                         1                         4   \n",
       "                                         2                         5   \n",
       "3be892ba5a4cdc550ac746e257e8e944e79561de 0                       166   \n",
       "\n",
       "                                                      match_coverage  \\\n",
       "sha1                                     lic_det_num                   \n",
       "15ecee2af9d79cc7c86d42b31b8778faf61e7e35 0                     100.0   \n",
       "1c3a8a412cca20678559fce34b46686c39a835c0 0                     100.0   \n",
       "                                         1                     100.0   \n",
       "                                         2                     100.0   \n",
       "3be892ba5a4cdc550ac746e257e8e944e79561de 0                      99.4   \n",
       "\n",
       "                                                      rule_relevance  \n",
       "sha1                                     lic_det_num                  \n",
       "15ecee2af9d79cc7c86d42b31b8778faf61e7e35 0                        22  \n",
       "1c3a8a412cca20678559fce34b46686c39a835c0 0                        99  \n",
       "                                         1                        22  \n",
       "                                         2                        27  \n",
       "3be892ba5a4cdc550ac746e257e8e944e79561de 0                       100  \n",
       "\n",
       "[5 rows x 37 columns]"
      ]
     },
     "execution_count": 58,
     "metadata": {},
     "output_type": "execute_result"
    }
   ],
   "source": [
    "merged_df.head(5)"
   ]
  },
  {
   "cell_type": "markdown",
   "metadata": {},
   "source": [
    "This is returned to the `create_package_level_dataframe` function in the package level, where this happends for every row, i.e. every package. They all get merged into One main dataframe."
   ]
  }
 ],
 "metadata": {
  "kernelspec": {
   "display_name": "Python 3",
   "language": "python",
   "name": "python3"
  },
  "language_info": {
   "codemirror_mode": {
    "name": "ipython",
    "version": 3
   },
   "file_extension": ".py",
   "mimetype": "text/x-python",
   "name": "python",
   "nbconvert_exporter": "python",
   "pygments_lexer": "ipython3",
   "version": "3.6.10"
  }
 },
 "nbformat": 4,
 "nbformat_minor": 4
}
